{
 "cells": [
  {
   "cell_type": "code",
   "execution_count": 1,
   "metadata": {},
   "outputs": [],
   "source": [
    "import pandas as pd\n",
    "from tqdm import tqdm\n",
    "import string, json, math\n",
    "import pytrec_eval\n",
    "import numpy as np"
   ]
  },
  {
   "cell_type": "code",
   "execution_count": 2,
   "metadata": {},
   "outputs": [],
   "source": [
    "train_output = '/mnt/scratch/chenqu/msmarco/original/session_train.txt'\n",
    "dev_output = '/mnt/scratch/chenqu/msmarco/original/session_dev.txt'\n",
    "test_output = '/mnt/scratch/chenqu/msmarco/original/session_test.txt'\n",
    "\n",
    "dataset = 'msmarco'\n",
    "\n",
    "if dataset == 'aol':\n",
    "    CLICKS = 'clicks'\n",
    "    TITLE = 'title'\n",
    "elif dataset == 'msmarco':\n",
    "    CLICKS = 'candidates'\n",
    "    TITLE = 'content'"
   ]
  },
  {
   "cell_type": "code",
   "execution_count": 11,
   "metadata": {},
   "outputs": [
    {
     "name": "stderr",
     "output_type": "stream",
     "text": [
      "5860it [00:03, 1764.77it/s]\n"
     ]
    }
   ],
   "source": [
    "query_count = 0\n",
    "target_query_count = 0\n",
    "target_query_lens, doc_lens = [], []\n",
    "target_click_count = 0\n",
    "session_lens = []\n",
    "session_count = 0\n",
    "\n",
    "with open(test_output) as fin:\n",
    "    for line in tqdm(fin):\n",
    "        session_count += 1\n",
    "        session = json.loads(line.strip())\n",
    "        queries = session['query']\n",
    "        session_lens.append(len(queries))\n",
    "        session_len = len(queries)\n",
    "        for i, query_dict in enumerate(queries):\n",
    "            query_count += 1\n",
    "            if dataset == 'aol' or i == session_len - 1:\n",
    "                target_query_count += 1\n",
    "                clicks = query_dict[CLICKS]\n",
    "                click_list = [click['label'] for click in clicks]\n",
    "                total_clicks = sum(click_list)\n",
    "                target_click_count += total_clicks\n",
    "                target_query_lens.append(len(query_dict['text'].split()))\n",
    "                for doc in clicks:\n",
    "                    doc_lens.append(len(doc[TITLE].split()))        "
   ]
  },
  {
   "cell_type": "code",
   "execution_count": 12,
   "metadata": {},
   "outputs": [
    {
     "name": "stdout",
     "output_type": "stream",
     "text": [
      "# sessions 5860\n",
      "# queries 39916\n",
      "# target queries 5860\n",
      "avg target queries per session 1.0\n",
      "avg target query length 3.8349829351535836\n",
      "avg doc length 65.32257679180887\n",
      "avg doc per target query 10.0\n",
      "avg click per target query 1.0482935153583617\n",
      "min/avg/median/max query per session 5 6.81160409556314 6.0 37\n"
     ]
    }
   ],
   "source": [
    "print('# sessions', session_count)\n",
    "print('# queries', query_count)\n",
    "print('# target queries', target_query_count)\n",
    "print('avg target queries per session', target_query_count / session_count)\n",
    "print('avg target query length', np.average(target_query_lens))\n",
    "print('avg doc length', np.average(doc_lens))\n",
    "print('avg doc per target query', len(doc_lens) / target_query_count)\n",
    "print('avg click per target query', target_click_count / target_query_count)\n",
    "print('min/avg/median/max query per session', min(session_lens), np.average(session_lens), \n",
    "                          np.median(session_lens), max(session_lens))"
   ]
  },
  {
   "cell_type": "code",
   "execution_count": null,
   "metadata": {},
   "outputs": [],
   "source": []
  }
 ],
 "metadata": {
  "kernelspec": {
   "display_name": "Python 3",
   "language": "python",
   "name": "python3"
  },
  "language_info": {
   "codemirror_mode": {
    "name": "ipython",
    "version": 3
   },
   "file_extension": ".py",
   "mimetype": "text/x-python",
   "name": "python",
   "nbconvert_exporter": "python",
   "pygments_lexer": "ipython3",
   "version": "3.7.3"
  }
 },
 "nbformat": 4,
 "nbformat_minor": 2
}
