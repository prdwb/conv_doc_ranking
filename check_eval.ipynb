{
 "cells": [
  {
   "cell_type": "code",
   "execution_count": 1,
   "metadata": {},
   "outputs": [],
   "source": [
    "import json\n",
    "from tqdm import tqdm\n",
    "import numpy as np"
   ]
  },
  {
   "cell_type": "code",
   "execution_count": 17,
   "metadata": {},
   "outputs": [],
   "source": [
    "# preds = '/mnt/scratch/chenqu/stateful_search/29_eval/test_preds.txt'\n",
    "preds = '/mnt/scratch/chenqu/stateful_search/33/test_preds.txt'\n",
    "dev_file = '/mnt/scratch/chenqu/msmarco/preprocessed/session_dev_small.txt'\n",
    "test_file = '/mnt/scratch/chenqu/msmarco/preprocessed/session_test.txt'\n",
    "train_file = '/mnt/scratch/chenqu/msmarco/preprocessed/session_train_original.txt'"
   ]
  },
  {
   "cell_type": "code",
   "execution_count": 18,
   "metadata": {},
   "outputs": [],
   "source": [
    "with open(preds) as fin:\n",
    "    res = json.load(fin)"
   ]
  },
  {
   "cell_type": "code",
   "execution_count": 19,
   "metadata": {},
   "outputs": [
    {
     "data": {
      "text/plain": [
       "dict_keys(['qrels', 'run', 'ranker_test_all_label_ids', 'guids', 'preds'])"
      ]
     },
     "execution_count": 19,
     "metadata": {},
     "output_type": "execute_result"
    }
   ],
   "source": [
    "res.keys()"
   ]
  },
  {
   "cell_type": "code",
   "execution_count": 21,
   "metadata": {},
   "outputs": [],
   "source": [
    "qrels_file = '/mnt/scratch/chenqu/stateful_search/33/qrels.txt'\n",
    "run_file = '/mnt/scratch/chenqu/stateful_search/33/run.txt'\n",
    "with open(qrels_file, 'w') as qrels, open(run_file, 'w') as run:\n",
    "    \n",
    "    for pred, label, guid in zip(res['preds'], res['ranker_test_all_label_ids'], res['guids']):\n",
    "        guid_splits = guid.split('_')\n",
    "        query_id = ''.join(guid_splits[: 2])\n",
    "        doc_id = ''.join(guid_splits)\n",
    "        \n",
    "        qrels.write('{} 0 {} {}\\n'.format(query_id, doc_id, label))\n",
    "        run.write('{} Q0 {} 0 {} SYSTEM\\n'.format(query_id, doc_id, pred))\n",
    "    "
   ]
  },
  {
   "cell_type": "code",
   "execution_count": 20,
   "metadata": {},
   "outputs": [
    {
     "data": {
      "text/plain": [
       "3807950"
      ]
     },
     "execution_count": 20,
     "metadata": {},
     "output_type": "execute_result"
    }
   ],
   "source": [
    "len(res['ranker_test_all_label_ids'])"
   ]
  },
  {
   "cell_type": "code",
   "execution_count": 21,
   "metadata": {},
   "outputs": [],
   "source": [
    "def mrr(preds, labels, doc_num_list):\n",
    "    mrr_list = []\n",
    "    for num in tqdm(doc_num_list):\n",
    "        cur_preds = preds[: num]\n",
    "        cur_labels = labels[: num]\n",
    "        mrr_list.append(single_mrr(cur_preds, cur_labels))\n",
    "        \n",
    "        preds = preds[num :]\n",
    "        labels = labels[num :]\n",
    "        \n",
    "    return {'mrr': np.average(mrr_list)}, mrr_list\n",
    "        \n",
    "def single_mrr(preds, labels):\n",
    "    score = 0.0\n",
    "    index_rank = np.argsort(preds)[::-1]\n",
    "    for rank, i in enumerate(index_rank):\n",
    "        if labels[i] == 1:\n",
    "            score = 1.0 / (rank + 1.0)\n",
    "            break\n",
    "            \n",
    "    return score"
   ]
  },
  {
   "cell_type": "code",
   "execution_count": 19,
   "metadata": {},
   "outputs": [
    {
     "data": {
      "text/plain": [
       "50"
      ]
     },
     "execution_count": 19,
     "metadata": {},
     "output_type": "execute_result"
    }
   ],
   "source": [
    "res['test_doc_num_list'][0]"
   ]
  },
  {
   "cell_type": "code",
   "execution_count": 25,
   "metadata": {},
   "outputs": [
    {
     "name": "stderr",
     "output_type": "stream",
     "text": [
      "\n",
      "  0%|          | 0/1 [00:00<?, ?it/s]\u001b[A\n",
      "100%|██████████| 1/1 [00:00<00:00, 1567.38it/s]\u001b[A"
     ]
    }
   ],
   "source": [
    "mrr_res, _ = mrr(res['preds'][50:100], res['ranker_test_all_label_ids'][50:100], res['test_doc_num_list'][1:2])"
   ]
  },
  {
   "cell_type": "code",
   "execution_count": 26,
   "metadata": {},
   "outputs": [
    {
     "name": "stdout",
     "output_type": "stream",
     "text": [
      "{'mrr': 1.0}\n"
     ]
    }
   ],
   "source": [
    "print(mrr_res)"
   ]
  },
  {
   "cell_type": "code",
   "execution_count": 12,
   "metadata": {},
   "outputs": [],
   "source": [
    "def trec_eval(preds, labels, guids):\n",
    "    qrels = {}\n",
    "    run = {}\n",
    "    for pred, label, guid in zip(preds, labels, guids):\n",
    "        guid_splits = guid.split('_')\n",
    "        query_id = '_'.join(guid_splits[: 2])\n",
    "        doc_id = guid_splits[-1]\n",
    "        \n",
    "        if query_id in qrels:\n",
    "            qrels[query_id][doc_id] = int(label)\n",
    "        else:\n",
    "            qrels[query_id] = {doc_id: int(label)}\n",
    "        \n",
    "        if query_id in run:\n",
    "            run[query_id][doc_id] = float(pred)\n",
    "        else:\n",
    "            run[query_id] = {doc_id: float(pred)}\n",
    "            \n",
    "    evaluator = pytrec_eval.RelevanceEvaluator(qrels, {'recip_rank', 'ndcg'})\n",
    "    res = evaluator.evaluate(run)\n",
    "    mrr_list = [v['recip_rank'] for v in res.values()]\n",
    "    ndcg_list = [v['ndcg'] for v in res.values()]\n",
    "    return {'mrr': np.average(mrr_list), 'ndcg': np.average(ndcg_list)}, qrels, run"
   ]
  },
  {
   "cell_type": "code",
   "execution_count": 30,
   "metadata": {},
   "outputs": [
    {
     "name": "stderr",
     "output_type": "stream",
     "text": [
      "\n",
      "  0%|          | 0/1 [00:00<?, ?it/s]\u001b[A\n",
      "100%|██████████| 1/1 [00:00<00:00, 1542.59it/s]\u001b[A"
     ]
    }
   ],
   "source": [
    "guids = []\n",
    "qid, did = 0, 0\n",
    "for num in tqdm(res['test_doc_num_list'][1:2]):\n",
    "    qid += 1\n",
    "    did = 0\n",
    "    for i in range(num):\n",
    "        did += 1\n",
    "        guids.append('fake_{}_{}'.format(qid, did))"
   ]
  },
  {
   "cell_type": "code",
   "execution_count": 32,
   "metadata": {},
   "outputs": [
    {
     "data": {
      "text/plain": [
       "({'mrr': 0.16666666666666666, 'ndcg': 0.3562071871080222},\n",
       " {'fake_1': {'1': 1,\n",
       "   '2': 0,\n",
       "   '3': 0,\n",
       "   '4': 0,\n",
       "   '5': 0,\n",
       "   '6': 0,\n",
       "   '7': 0,\n",
       "   '8': 0,\n",
       "   '9': 0,\n",
       "   '10': 0,\n",
       "   '11': 0,\n",
       "   '12': 0,\n",
       "   '13': 0,\n",
       "   '14': 0,\n",
       "   '15': 0,\n",
       "   '16': 0,\n",
       "   '17': 0,\n",
       "   '18': 0,\n",
       "   '19': 0,\n",
       "   '20': 0,\n",
       "   '21': 0,\n",
       "   '22': 0,\n",
       "   '23': 0,\n",
       "   '24': 0,\n",
       "   '25': 0,\n",
       "   '26': 0,\n",
       "   '27': 0,\n",
       "   '28': 0,\n",
       "   '29': 0,\n",
       "   '30': 0,\n",
       "   '31': 0,\n",
       "   '32': 0,\n",
       "   '33': 0,\n",
       "   '34': 0,\n",
       "   '35': 0,\n",
       "   '36': 0,\n",
       "   '37': 0,\n",
       "   '38': 0,\n",
       "   '39': 0,\n",
       "   '40': 0,\n",
       "   '41': 0,\n",
       "   '42': 0,\n",
       "   '43': 0,\n",
       "   '44': 0,\n",
       "   '45': 0,\n",
       "   '46': 0,\n",
       "   '47': 0,\n",
       "   '48': 0,\n",
       "   '49': 0,\n",
       "   '50': 0}},\n",
       " {'fake_1': {'1': 0.5541460514068604,\n",
       "   '2': 4.136287316214293e-06,\n",
       "   '3': 7.670581908314489e-06,\n",
       "   '4': 5.175919795874506e-06,\n",
       "   '5': 5.107867309561698e-06,\n",
       "   '6': 0.33400648832321167,\n",
       "   '7': 5.2628261073550675e-06,\n",
       "   '8': 5.175919795874506e-06,\n",
       "   '9': 0.00019116289331577718,\n",
       "   '10': 5.107867309561698e-06,\n",
       "   '11': 5.107867309561698e-06,\n",
       "   '12': 6.0117265093140304e-05,\n",
       "   '13': 0.5541460514068604,\n",
       "   '14': 0.5541460514068604,\n",
       "   '15': 5.425330982689047e-06,\n",
       "   '16': 5.213650183577556e-06,\n",
       "   '17': 0.0007025696686469018,\n",
       "   '18': 0.5541460514068604,\n",
       "   '19': 0.00013196210784371942,\n",
       "   '20': 0.16773156821727753,\n",
       "   '21': 7.409751560771838e-06,\n",
       "   '22': 0.20956505835056305,\n",
       "   '23': 0.1975593864917755,\n",
       "   '24': 3.845565970550524e-06,\n",
       "   '25': 6.587843472516397e-06,\n",
       "   '26': 5.107867309561698e-06,\n",
       "   '27': 3.884882062266115e-06,\n",
       "   '28': 3.946809101762483e-06,\n",
       "   '29': 0.20956505835056305,\n",
       "   '30': 0.20956505835056305,\n",
       "   '31': 6.7886203396483324e-06,\n",
       "   '32': 0.5541460514068604,\n",
       "   '33': 1.0163400474993978e-05,\n",
       "   '34': 5.877185230929172e-06,\n",
       "   '35': 5.107867309561698e-06,\n",
       "   '36': 4.680095571529819e-06,\n",
       "   '37': 5.107867309561698e-06,\n",
       "   '38': 0.00022657272347714752,\n",
       "   '39': 0.00021617699530906975,\n",
       "   '40': 6.7886203396483324e-06,\n",
       "   '41': 0.20956505835056305,\n",
       "   '42': 4.6211287553887814e-05,\n",
       "   '43': 5.107867309561698e-06,\n",
       "   '44': 0.5541460514068604,\n",
       "   '45': 3.995973202108871e-06,\n",
       "   '46': 0.20956505835056305,\n",
       "   '47': 4.04671754949959e-06,\n",
       "   '48': 0.0011018194491043687,\n",
       "   '49': 5.107867309561698e-06,\n",
       "   '50': 0.20956505835056305}})"
      ]
     },
     "execution_count": 32,
     "metadata": {},
     "output_type": "execute_result"
    }
   ],
   "source": [
    "import pytrec_eval\n",
    "trec_eval(res['preds'][50:100], res['ranker_test_all_label_ids'][50:100], guids)"
   ]
  },
  {
   "cell_type": "code",
   "execution_count": null,
   "metadata": {},
   "outputs": [],
   "source": []
  }
 ],
 "metadata": {
  "kernelspec": {
   "display_name": "Python 3",
   "language": "python",
   "name": "python3"
  },
  "language_info": {
   "codemirror_mode": {
    "name": "ipython",
    "version": 3
   },
   "file_extension": ".py",
   "mimetype": "text/x-python",
   "name": "python",
   "nbconvert_exporter": "python",
   "pygments_lexer": "ipython3",
   "version": "3.7.3"
  }
 },
 "nbformat": 4,
 "nbformat_minor": 2
}
