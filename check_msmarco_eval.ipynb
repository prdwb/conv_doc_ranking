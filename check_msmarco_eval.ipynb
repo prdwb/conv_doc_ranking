{
 "cells": [
  {
   "cell_type": "code",
   "execution_count": 19,
   "metadata": {},
   "outputs": [],
   "source": [
    "import json\n",
    "from tqdm import tqdm"
   ]
  },
  {
   "cell_type": "code",
   "execution_count": 25,
   "metadata": {},
   "outputs": [],
   "source": [
    "preds = '/mnt/scratch/chenqu/stateful_search/20005/eval_preds.txt'\n",
    "dev_file = '/mnt/scratch/chenqu/msmarco/preprocessed/session_dev_small.txt'\n",
    "test_file = '/mnt/scratch/chenqu/msmarco/preprocessed/session_test.txt'\n",
    "train_file = '/mnt/scratch/chenqu/msmarco/preprocessed/session_train_original.txt'"
   ]
  },
  {
   "cell_type": "code",
   "execution_count": 3,
   "metadata": {},
   "outputs": [],
   "source": [
    "with open(preds) as fin:\n",
    "    res = json.load(fin)"
   ]
  },
  {
   "cell_type": "code",
   "execution_count": 5,
   "metadata": {},
   "outputs": [
    {
     "data": {
      "text/plain": [
       "dict_keys(['qrels', 'run', 'ranker_test_all_label_ids', 'guids', 'preds'])"
      ]
     },
     "execution_count": 5,
     "metadata": {},
     "output_type": "execute_result"
    }
   ],
   "source": [
    "res.keys()"
   ]
  },
  {
   "cell_type": "code",
   "execution_count": 11,
   "metadata": {},
   "outputs": [
    {
     "data": {
      "text/plain": [
       "{'0': 0,\n",
       " '1': 0,\n",
       " '2': 0,\n",
       " '3': 0,\n",
       " '4': 0,\n",
       " '5': 0,\n",
       " '6': 1,\n",
       " '7': 0,\n",
       " '8': 0,\n",
       " '9': 0}"
      ]
     },
     "execution_count": 11,
     "metadata": {},
     "output_type": "execute_result"
    }
   ],
   "source": [
    "res['qrels']['xb0qtrlir4_0']"
   ]
  },
  {
   "cell_type": "code",
   "execution_count": 13,
   "metadata": {},
   "outputs": [
    {
     "data": {
      "text/plain": [
       "{'0': 9.71187255345285e-05,\n",
       " '1': 8.980737766250968e-05,\n",
       " '2': 0.00012102688197046518,\n",
       " '3': 0.00010670037590898573,\n",
       " '4': 8.829404396237805e-05,\n",
       " '5': 9.028234489960596e-05,\n",
       " '6': 0.9993743300437927,\n",
       " '7': 0.00010364859190303832,\n",
       " '8': 9.170871635433286e-05,\n",
       " '9': 9.803121793083847e-05}"
      ]
     },
     "execution_count": 13,
     "metadata": {},
     "output_type": "execute_result"
    }
   ],
   "source": [
    "res['run']['xb0qtrlir4_0']"
   ]
  },
  {
   "cell_type": "code",
   "execution_count": 26,
   "metadata": {},
   "outputs": [
    {
     "name": "stderr",
     "output_type": "stream",
     "text": [
      "15319390it [03:44, 68145.07it/s]\n",
      "1890950it [00:27, 67871.06it/s]"
     ]
    },
    {
     "name": "stdout",
     "output_type": "stream",
     "text": [
      "1870990\n"
     ]
    },
    {
     "name": "stderr",
     "output_type": "stream",
     "text": [
      "\n"
     ]
    }
   ],
   "source": [
    "train_dict = {}\n",
    "train_guid_dict = {}\n",
    "with open(train_file) as fin:\n",
    "    for line in tqdm(fin):\n",
    "        dp = json.loads(line)\n",
    "        train_dict[(dp['query'], dp['title'], dp['label'])] = 1\n",
    "        # train_guid_dict[dp['guid']] = 1\n",
    "        \n",
    "counter = 0\n",
    "with open(test_file) as fin:\n",
    "    for line in tqdm(fin):\n",
    "        dp = json.loads(line)\n",
    "        if (dp['query'], dp['title'], dp['label']) in train_dict:\n",
    "        # if dp['guid'] in train_guid_dict:\n",
    "            counter += 1\n",
    "print(counter)"
   ]
  },
  {
   "cell_type": "code",
   "execution_count": null,
   "metadata": {},
   "outputs": [],
   "source": []
  }
 ],
 "metadata": {
  "kernelspec": {
   "display_name": "Python 3",
   "language": "python",
   "name": "python3"
  },
  "language_info": {
   "codemirror_mode": {
    "name": "ipython",
    "version": 3
   },
   "file_extension": ".py",
   "mimetype": "text/x-python",
   "name": "python",
   "nbconvert_exporter": "python",
   "pygments_lexer": "ipython3",
   "version": "3.7.3"
  }
 },
 "nbformat": 4,
 "nbformat_minor": 2
}
