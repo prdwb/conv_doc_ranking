{
 "cells": [
  {
   "cell_type": "code",
   "execution_count": 1,
   "metadata": {},
   "outputs": [],
   "source": [
    "import json\n",
    "from tqdm import tqdm\n",
    "from copy import deepcopy"
   ]
  },
  {
   "cell_type": "code",
   "execution_count": 8,
   "metadata": {},
   "outputs": [],
   "source": [
    "split = 'test'\n",
    "dataset = 'aol'\n",
    "file_in = '/mnt/scratch/chenqu/{}/original/session_{}.txt'.format(dataset, split)\n",
    "file_out = '/mnt/scratch/chenqu/{}/preprocessed/session_{}.txt'.format(dataset, split)\n",
    "\n",
    "if dataset == 'aol':\n",
    "    CLICKS = 'clicks'\n",
    "    TITLE = 'title'\n",
    "elif dataset == 'msmarco':\n",
    "    CLICKS = 'candidates'\n",
    "    TITLE = 'content'\n",
    "    \n",
    "file_out = '/mnt/scratch/chenqu/aol_new/preprocessed/session_{}.txt'.format(split)"
   ]
  },
  {
   "cell_type": "code",
   "execution_count": 9,
   "metadata": {},
   "outputs": [],
   "source": [
    "def create_examples(line, dataset):\n",
    "        \n",
    "        # session_info = [turn_1: [query, clicked_title, skipped_title],\n",
    "        #                 turn_2: [query, clicked_title, skipped_title],\n",
    "        #                 ...\n",
    "        #                 turn_n: [query, clicked_title, skipped_title],\n",
    "        #                ]\n",
    "        \n",
    "        session_info = []\n",
    "        doc_num_list = []\n",
    "        \n",
    "        session = json.loads(line.strip())\n",
    "        session_id = session['session_id']\n",
    "        session_len = len(session['query'])\n",
    "        \n",
    "        # if we do not include skipped, each turn has a query, a clicked title,\n",
    "        # if include skipped, each turn has another component, which is the skipped title\n",
    "        num_components_per_turn = 3\n",
    "        \n",
    "        # session_examples: [history_component_1, history_component_2, ...]\n",
    "        session_examples = []\n",
    "        \n",
    "        \n",
    "        query_id = 0\n",
    "        for turn_id, turn in enumerate(session['query']):\n",
    "            \n",
    "            clicks_list = [click['label'] for click in turn[CLICKS]]\n",
    "            total_clicks = sum(clicks_list)\n",
    "            \n",
    "            query = turn['text']\n",
    "            \n",
    "            clicked_indices = [i for i, x in enumerate(clicks_list) if x]\n",
    "            clicked_title = turn[CLICKS][clicked_indices[0]][TITLE] if len(clicked_indices) > 0 else '[EMPTY_TITLE]'\n",
    "            max_skip_index = clicked_indices[-1] + 1 if len(clicked_indices) > 0 else 0\n",
    "                        \n",
    "            try:\n",
    "                skipped_index = clicks_list.index(False)\n",
    "                if skipped_index <= max_skip_index:\n",
    "                    skipped_title = turn[CLICKS][skipped_index][TITLE]\n",
    "                else:\n",
    "                    skipped_title = '[EMPTY_TITLE]'\n",
    "            except:\n",
    "                skipped_title = '[EMPTY_TITLE]'\n",
    "            \n",
    "            session_info.append([query, clicked_title, skipped_title])            \n",
    "            \n",
    "            if (total_clicks > 0 and turn_id == session_len - 1) or dataset == 'aol':\n",
    "                doc_id = 0\n",
    "                for doc_id, doc in enumerate(turn[CLICKS]):\n",
    "                    title = doc[TITLE]\n",
    "                    label = doc['label']\n",
    "                    history = deepcopy(session_info[:-1])\n",
    "                    guid = '{}_{}_{}'.format(session_id, query_id, doc_id)\n",
    "                    session_examples.append({'guid': guid, 'query': query, 'title': title, 'label': label, 'history': history})\n",
    "                    \n",
    "                    doc_id += 1\n",
    "                    \n",
    "            query_id += 1\n",
    "        return session_examples"
   ]
  },
  {
   "cell_type": "code",
   "execution_count": 10,
   "metadata": {},
   "outputs": [
    {
     "name": "stderr",
     "output_type": "stream",
     "text": [
      "29369it [02:10, 225.49it/s]\n"
     ]
    }
   ],
   "source": [
    "with open(file_in) as fin, open(file_out, 'w') as fout:\n",
    "    for line in tqdm(fin):\n",
    "        session_examples = create_examples(line, dataset)\n",
    "        for example in session_examples:\n",
    "            fout.write(json.dumps(example, sort_keys=True) + '\\n')"
   ]
  },
  {
   "cell_type": "code",
   "execution_count": null,
   "metadata": {},
   "outputs": [],
   "source": []
  }
 ],
 "metadata": {
  "kernelspec": {
   "display_name": "Python 3",
   "language": "python",
   "name": "python3"
  },
  "language_info": {
   "codemirror_mode": {
    "name": "ipython",
    "version": 3
   },
   "file_extension": ".py",
   "mimetype": "text/x-python",
   "name": "python",
   "nbconvert_exporter": "python",
   "pygments_lexer": "ipython3",
   "version": "3.7.3"
  }
 },
 "nbformat": 4,
 "nbformat_minor": 2
}
