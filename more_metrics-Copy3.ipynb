{
 "cells": [
  {
   "cell_type": "code",
   "execution_count": 1,
   "metadata": {},
   "outputs": [],
   "source": [
    "import json\n",
    "from tqdm import tqdm\n",
    "import numpy as np\n",
    "import pytrec_eval"
   ]
  },
  {
   "cell_type": "code",
   "execution_count": 12,
   "metadata": {},
   "outputs": [],
   "source": [
    "preds = '/mnt/scratch/chenqu/stateful_search/46/test_preds.txt'\n",
    "preds_1 = '/mnt/scratch/chenqu/stateful_search/97/test_preds.txt'\n",
    "dev_file = '/mnt/scratch/chenqu/aol/preprocessed/session_dev_small.txt'\n",
    "test_file = '/mnt/scratch/chenqu/aol/preprocessed/session_test.txt'\n",
    "train_file = '/mnt/scratch/chenqu/aol/preprocessed/session_train.txt'"
   ]
  },
  {
   "cell_type": "code",
   "execution_count": 13,
   "metadata": {},
   "outputs": [],
   "source": [
    "with open(preds) as fin:\n",
    "    res = json.load(fin)\n",
    "qrels = res['qrels']\n",
    "run = res['run']\n",
    "\n",
    "with open(preds_1) as fin:\n",
    "    res_1 = json.load(fin)\n",
    "qrels = res['qrels']\n",
    "run = res['run']"
   ]
  },
  {
   "cell_type": "code",
   "execution_count": 4,
   "metadata": {},
   "outputs": [
    {
     "name": "stdout",
     "output_type": "stream",
     "text": [
      "mrr 0.5365898366310046\n",
      "ndcg_list 0.6344083508761332\n",
      "ndcg_1_list 0.3787470948935779\n",
      "ndcg_3_list 0.517421151530598\n",
      "ndcg_10_list 0.5953927323134787\n"
     ]
    }
   ],
   "source": [
    "evaluator = pytrec_eval.RelevanceEvaluator(qrels, {'recip_rank', 'ndcg', 'ndcg_cut'})\n",
    "eval_res = evaluator.evaluate(run)\n",
    "mrr_list = [v['recip_rank'] for v in eval_res.values()]\n",
    "ndcg_list = [v['ndcg'] for v in eval_res.values()]\n",
    "ndcg_1_list = [v['ndcg_cut_1'] for v in eval_res.values()]\n",
    "ndcg_3_list = [v['ndcg_cut_3'] for v in eval_res.values()]\n",
    "ndcg_10_list = [v['ndcg_cut_10'] for v in eval_res.values()]\n",
    "\n",
    "print('mrr', np.average(mrr_list))\n",
    "print('ndcg_list', np.average(ndcg_list))\n",
    "print('ndcg_1_list', np.average(ndcg_1_list))\n",
    "print('ndcg_3_list', np.average(ndcg_3_list))\n",
    "print('ndcg_10_list', np.average(ndcg_10_list))\n"
   ]
  },
  {
   "cell_type": "code",
   "execution_count": 5,
   "metadata": {},
   "outputs": [
    {
     "data": {
      "text/plain": [
       "dict_keys(['qrels', 'run', 'ranker_test_all_label_ids', 'guids', 'preds'])"
      ]
     },
     "execution_count": 5,
     "metadata": {},
     "output_type": "execute_result"
    }
   ],
   "source": [
    "res.keys()"
   ]
  },
  {
   "cell_type": "code",
   "execution_count": 7,
   "metadata": {},
   "outputs": [],
   "source": [
    "def mrr(preds, labels, doc_num_list):\n",
    "    mrr_list = []\n",
    "    for num in tqdm(doc_num_list):\n",
    "        cur_preds = preds[: num]\n",
    "        cur_labels = labels[: num]\n",
    "        mrr_list.append(single_mrr(cur_preds, cur_labels))\n",
    "        \n",
    "        preds = preds[num :]\n",
    "        labels = labels[num :]\n",
    "        \n",
    "    return {'mrr': np.average(mrr_list)}, mrr_list\n",
    "        \n",
    "def single_mrr(preds, labels):\n",
    "    score = 0.0\n",
    "    index_rank = np.argsort(preds)[::-1]\n",
    "    for rank, i in enumerate(index_rank):\n",
    "        if labels[i] == 1:\n",
    "            score = 1.0 / (rank + 1.0)\n",
    "            break\n",
    "            \n",
    "    return score"
   ]
  },
  {
   "cell_type": "code",
   "execution_count": 17,
   "metadata": {},
   "outputs": [
    {
     "name": "stderr",
     "output_type": "stream",
     "text": [
      "100%|██████████| 1/1 [00:00<00:00, 1213.28it/s]\n"
     ]
    },
    {
     "data": {
      "text/plain": [
       "({'mrr': 1.0}, [1.0])"
      ]
     },
     "execution_count": 17,
     "metadata": {},
     "output_type": "execute_result"
    }
   ],
   "source": [
    "mrr(res['preds'][450:500], res['ranker_test_all_label_ids'][450:500], [50] * 1)"
   ]
  },
  {
   "cell_type": "code",
   "execution_count": 18,
   "metadata": {},
   "outputs": [
    {
     "data": {
      "text/plain": [
       "[0.9943580627441406,\n",
       " 6.132764974609017e-05,\n",
       " 6.156767631182447e-05,\n",
       " 0.00018378469394519925,\n",
       " 6.761841359548271e-05,\n",
       " 6.253711035242304e-05,\n",
       " 7.632232882315293e-05,\n",
       " 6.156767631182447e-05,\n",
       " 6.156767631182447e-05,\n",
       " 6.156767631182447e-05,\n",
       " 9.278285142499954e-05,\n",
       " 6.132764974609017e-05,\n",
       " 8.922864799387753e-05,\n",
       " 6.156767631182447e-05,\n",
       " 0.00010310213110642508,\n",
       " 6.156767631182447e-05,\n",
       " 6.156767631182447e-05,\n",
       " 0.001796149299480021,\n",
       " 6.278187356656417e-05,\n",
       " 6.156767631182447e-05,\n",
       " 0.0039917281828820705,\n",
       " 6.278187356656417e-05,\n",
       " 6.205050158314407e-05,\n",
       " 6.156767631182447e-05,\n",
       " 6.132764974609017e-05,\n",
       " 0.010189338587224483,\n",
       " 6.108855450293049e-05,\n",
       " 6.108855450293049e-05,\n",
       " 6.132764974609017e-05,\n",
       " 6.156767631182447e-05,\n",
       " 6.132764974609017e-05,\n",
       " 6.156767631182447e-05,\n",
       " 0.0009436191758140922,\n",
       " 6.205050158314407e-05,\n",
       " 7.031182758510113e-05,\n",
       " 6.253711035242304e-05,\n",
       " 0.0005625758785754442,\n",
       " 6.132764974609017e-05,\n",
       " 6.18085905443877e-05,\n",
       " 6.108855450293049e-05,\n",
       " 6.156767631182447e-05,\n",
       " 6.156767631182447e-05,\n",
       " 6.278187356656417e-05,\n",
       " 6.132764974609017e-05,\n",
       " 6.132764974609017e-05,\n",
       " 0.0007166295545175672,\n",
       " 6.156767631182447e-05,\n",
       " 6.108855450293049e-05,\n",
       " 6.108855450293049e-05,\n",
       " 6.327427399810404e-05]"
      ]
     },
     "execution_count": 18,
     "metadata": {},
     "output_type": "execute_result"
    }
   ],
   "source": [
    "res['preds'][450:500]"
   ]
  },
  {
   "cell_type": "code",
   "execution_count": 16,
   "metadata": {},
   "outputs": [
    {
     "name": "stderr",
     "output_type": "stream",
     "text": [
      "100%|██████████| 1/1 [00:00<00:00, 1332.79it/s]\n"
     ]
    },
    {
     "data": {
      "text/plain": [
       "({'mrr': 0.3333333333333333}, [0.3333333333333333])"
      ]
     },
     "execution_count": 16,
     "metadata": {},
     "output_type": "execute_result"
    }
   ],
   "source": [
    "mrr(res_1['preds'][450:500], res_1['ranker_test_all_label_ids'][450:500], [50] * 1)"
   ]
  },
  {
   "cell_type": "code",
   "execution_count": 19,
   "metadata": {},
   "outputs": [
    {
     "data": {
      "text/plain": [
       "[0.08288274705410004,\n",
       " 0.019643759354948997,\n",
       " 0.0008426422718912363,\n",
       " 0.7945444583892822,\n",
       " 0.011892049573361874,\n",
       " 0.0010691260686144233,\n",
       " 0.0010403183987364173,\n",
       " 0.0008409997099079192,\n",
       " 0.0009181902860291302,\n",
       " 0.0008426422718912363,\n",
       " 0.0008492455235682428,\n",
       " 0.0008592479862272739,\n",
       " 0.0008525669109076262,\n",
       " 0.0008409997099079192,\n",
       " 0.0008727670647203922,\n",
       " 0.0008475900976918638,\n",
       " 0.0008393599418923259,\n",
       " 0.0015947327483445406,\n",
       " 0.0009075026027858257,\n",
       " 0.0008409997099079192,\n",
       " 0.0068107303231954575,\n",
       " 0.0008525669109076262,\n",
       " 0.0019877739250659943,\n",
       " 0.0010649629402905703,\n",
       " 0.0008575725951232016,\n",
       " 0.07871317118406296,\n",
       " 0.0010628870222717524,\n",
       " 0.002878348110243678,\n",
       " 0.0008393599418923259,\n",
       " 0.06881856918334961,\n",
       " 0.0008969392511062324,\n",
       " 0.001242417492903769,\n",
       " 0.2045801728963852,\n",
       " 0.0008426422718912363,\n",
       " 0.0016711372882127762,\n",
       " 0.006488270126283169,\n",
       " 0.0008592479862272739,\n",
       " 0.0008847708231769502,\n",
       " 0.021145397797226906,\n",
       " 0.000845937873236835,\n",
       " 0.031618762761354446,\n",
       " 0.0008393599418923259,\n",
       " 0.0012570441467687488,\n",
       " 0.0008592479862272739,\n",
       " 0.0008426422718912363,\n",
       " 0.01958741992712021,\n",
       " 0.0008442880352959037,\n",
       " 0.001632489264011383,\n",
       " 0.0008426422718912363,\n",
       " 0.0008609261712990701]"
      ]
     },
     "execution_count": 19,
     "metadata": {},
     "output_type": "execute_result"
    }
   ],
   "source": [
    "res_1['preds'][450:500]"
   ]
  }
 ],
 "metadata": {
  "kernelspec": {
   "display_name": "Python 3",
   "language": "python",
   "name": "python3"
  },
  "language_info": {
   "codemirror_mode": {
    "name": "ipython",
    "version": 3
   },
   "file_extension": ".py",
   "mimetype": "text/x-python",
   "name": "python",
   "nbconvert_exporter": "python",
   "pygments_lexer": "ipython3",
   "version": "3.7.3"
  }
 },
 "nbformat": 4,
 "nbformat_minor": 2
}
