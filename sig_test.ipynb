{
 "cells": [
  {
   "cell_type": "code",
   "execution_count": 5,
   "metadata": {},
   "outputs": [],
   "source": [
    "from scipy import stats\n",
    "import json\n",
    "import pytrec_eval\n",
    "import numpy as np"
   ]
  },
  {
   "cell_type": "code",
   "execution_count": 2,
   "metadata": {},
   "outputs": [],
   "source": [
    "def trec_eval(qrels, run):\n",
    "    evaluator = pytrec_eval.RelevanceEvaluator(qrels, {'recip_rank', 'ndcg', 'ndcg_cut'})\n",
    "    res = evaluator.evaluate(run)\n",
    "    mrr_list = [v['recip_rank'] for v in res.values()]\n",
    "    ndcg_1_list = [v['ndcg_cut_1'] for v in res.values()]\n",
    "    ndcg_3_list = [v['ndcg_cut_3'] for v in res.values()]\n",
    "    ndcg_10_list = [v['ndcg_cut_10'] for v in res.values()]\n",
    "    return mrr_list, ndcg_1_list, ndcg_3_list, ndcg_10_list"
   ]
  },
  {
   "cell_type": "code",
   "execution_count": 12,
   "metadata": {},
   "outputs": [
    {
     "name": "stdout",
     "output_type": "stream",
     "text": [
      "0.5431809070143571 0.3857981328536352 0.5255663913280851 0.601694017186069\n",
      "0.5365898366310046 0.3787470948935779 0.517421151530598 0.5953927323134787\n",
      "Ttest_relResult(statistic=8.315909211900253, pvalue=9.25330053869711e-17)\n",
      "Ttest_relResult(statistic=5.8726859300554235, pvalue=4.3056367623173544e-09)\n",
      "Ttest_relResult(statistic=9.00982531212803, pvalue=2.1100655734775775e-19)\n",
      "Ttest_relResult(statistic=9.55389507888099, pvalue=1.2844669013832889e-21)\n"
     ]
    }
   ],
   "source": [
    "ours_file = '/mnt/scratch/chenqu/stateful_search/64/test_preds.txt'\n",
    "baseline_file = '/mnt/scratch/chenqu/stateful_search/46/test_preds.txt'\n",
    "\n",
    "with open(ours_file) as fin:\n",
    "    ours = json.load(fin)\n",
    "    ours_mrr_list, ours_ndcg_1_list, ours_ndcg_3_list, ours_ndcg_10_list = trec_eval(ours['qrels'], ours['run'])\n",
    "    \n",
    "with open(baseline_file) as fin:\n",
    "    baseline = json.load(fin)\n",
    "    baseline_mrr_list, baseline_ndcg_1_list, baseline_ndcg_3_list, baseline_ndcg_10_list = trec_eval(baseline['qrels'], baseline['run'])\n",
    "\n",
    "print(np.average(ours_mrr_list), np.average(ours_ndcg_1_list), \n",
    "      np.average(ours_ndcg_3_list), np.average(ours_ndcg_10_list))\n",
    "print(np.average(baseline_mrr_list), np.average(baseline_ndcg_1_list), \n",
    "      np.average(baseline_ndcg_3_list), np.average(baseline_ndcg_10_list))\n",
    "    \n",
    "print(stats.ttest_rel(ours_mrr_list, baseline_mrr_list))\n",
    "print(stats.ttest_rel(ours_ndcg_1_list, baseline_ndcg_1_list))\n",
    "print(stats.ttest_rel(ours_ndcg_3_list, baseline_ndcg_3_list))\n",
    "print(stats.ttest_rel(ours_ndcg_10_list, baseline_ndcg_10_list))"
   ]
  },
  {
   "cell_type": "code",
   "execution_count": null,
   "metadata": {},
   "outputs": [],
   "source": []
  }
 ],
 "metadata": {
  "kernelspec": {
   "display_name": "Python 3",
   "language": "python",
   "name": "python3"
  },
  "language_info": {
   "codemirror_mode": {
    "name": "ipython",
    "version": 3
   },
   "file_extension": ".py",
   "mimetype": "text/x-python",
   "name": "python",
   "nbconvert_exporter": "python",
   "pygments_lexer": "ipython3",
   "version": "3.7.3"
  }
 },
 "nbformat": 4,
 "nbformat_minor": 2
}
