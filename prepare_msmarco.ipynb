{
 "cells": [
  {
   "cell_type": "code",
   "execution_count": 1,
   "metadata": {},
   "outputs": [],
   "source": [
    "import json\n",
    "from tqdm import tqdm\n"
   ]
  },
  {
   "cell_type": "code",
   "execution_count": 11,
   "metadata": {},
   "outputs": [],
   "source": [
    "train_in = '/mnt/scratch/chenqu/msmarco_wasi/original/session_train.txt'\n",
    "dev_in = '/mnt/scratch/chenqu/msmarco_wasi/original/session_dev.txt'\n",
    "test_in = '/mnt/scratch/chenqu/msmarco_wasi/original/session_test.txt'\n",
    "train_original_in = '/mnt/scratch/chenqu/msmarco_wasi/original/session_train_original.txt'\n",
    "all_data_in = '/mnt/scratch/chenqu/msmarco_wasi/original/all_data.txt'\n",
    "\n",
    "dev_out = '/mnt/scratch/chenqu/msmarco/original/session_dev.txt'\n",
    "test_out = '/mnt/scratch/chenqu/msmarco/original/session_test.txt'"
   ]
  },
  {
   "cell_type": "code",
   "execution_count": 3,
   "metadata": {},
   "outputs": [],
   "source": [
    "train_query_dict = {}\n",
    "with open(train_in) as fin:\n",
    "    for line in fin:\n",
    "        session = json.loads(line.strip())\n",
    "        for turn_id, turn in enumerate(session['query']):\n",
    "            query = turn['text']\n",
    "            train_query_dict[query] = 1"
   ]
  },
  {
   "cell_type": "code",
   "execution_count": 14,
   "metadata": {},
   "outputs": [],
   "source": [
    "def filter_dev(dev_in):\n",
    "    lines_not_in_train = []\n",
    "    with open(dev_in) as fin:\n",
    "        for line in tqdm(fin):\n",
    "            keep = True\n",
    "            session = json.loads(line.strip())\n",
    "            for turn_id, turn in enumerate(session['query']):\n",
    "                query = turn['text']\n",
    "                if query in train_query_dict:\n",
    "                    keep = False\n",
    "                    break\n",
    "            if keep:\n",
    "                lines_not_in_train.append(line)\n",
    "    return lines_not_in_train"
   ]
  },
  {
   "cell_type": "code",
   "execution_count": 15,
   "metadata": {},
   "outputs": [
    {
     "name": "stderr",
     "output_type": "stream",
     "text": [
      "276381it [01:19, 3465.03it/s]\n"
     ]
    }
   ],
   "source": [
    "lines_not_in_train = filter_dev(all_data_in)"
   ]
  },
  {
   "cell_type": "code",
   "execution_count": 16,
   "metadata": {},
   "outputs": [
    {
     "data": {
      "text/plain": [
       "546"
      ]
     },
     "execution_count": 16,
     "metadata": {},
     "output_type": "execute_result"
    }
   ],
   "source": [
    "len(lines_not_in_train)"
   ]
  },
  {
   "cell_type": "code",
   "execution_count": null,
   "metadata": {},
   "outputs": [],
   "source": []
  }
 ],
 "metadata": {
  "kernelspec": {
   "display_name": "Python 3",
   "language": "python",
   "name": "python3"
  },
  "language_info": {
   "codemirror_mode": {
    "name": "ipython",
    "version": 3
   },
   "file_extension": ".py",
   "mimetype": "text/x-python",
   "name": "python",
   "nbconvert_exporter": "python",
   "pygments_lexer": "ipython3",
   "version": "3.7.3"
  }
 },
 "nbformat": 4,
 "nbformat_minor": 2
}
