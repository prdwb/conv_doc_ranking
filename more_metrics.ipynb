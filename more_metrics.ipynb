{
 "cells": [
  {
   "cell_type": "code",
   "execution_count": 1,
   "metadata": {},
   "outputs": [],
   "source": [
    "import json\n",
    "from tqdm import tqdm\n",
    "import numpy as np\n",
    "import pytrec_eval"
   ]
  },
  {
   "cell_type": "code",
   "execution_count": 2,
   "metadata": {},
   "outputs": [],
   "source": [
    "preds = '/mnt/scratch/chenqu/stateful_search/29_eval/test_preds.txt'\n",
    "dev_file = '/mnt/scratch/chenqu/msmarco/preprocessed/session_dev_small.txt'\n",
    "test_file = '/mnt/scratch/chenqu/msmarco/preprocessed/session_test.txt'\n",
    "train_file = '/mnt/scratch/chenqu/msmarco/preprocessed/session_train_original.txt'"
   ]
  },
  {
   "cell_type": "code",
   "execution_count": 3,
   "metadata": {},
   "outputs": [],
   "source": [
    "with open(preds) as fin:\n",
    "    res = json.load(fin)\n",
    "qrels = res['qrels']\n",
    "run = res['run']"
   ]
  },
  {
   "cell_type": "code",
   "execution_count": 4,
   "metadata": {},
   "outputs": [
    {
     "name": "stdout",
     "output_type": "stream",
     "text": [
      "mrr 0.5263053328364005\n",
      "ndcg_list 0.6264779706390913\n",
      "ndcg_10_list 0.5863397634444215\n"
     ]
    }
   ],
   "source": [
    "evaluator = pytrec_eval.RelevanceEvaluator(qrels, {'recip_rank', 'ndcg', 'ndcg_cut'})\n",
    "eval_res = evaluator.evaluate(run)\n",
    "mrr_list = [v['recip_rank'] for v in eval_res.values()]\n",
    "ndcg_list = [v['ndcg'] for v in eval_res.values()]\n",
    "# ndcg_1_list = [v['ndcg_cut_1'] for v in res.values()]\n",
    "# ndcg_3_list = [v['ndcg_cut_3'] for v in res.values()]\n",
    "ndcg_10_list = [v['ndcg_cut_10'] for v in eval_res.values()]\n",
    "\n",
    "print('mrr', np.average(mrr_list))\n",
    "print('ndcg_list', np.average(ndcg_list))\n",
    "# print('ndcg_1_list', np.average(ndcg_1_list))\n",
    "# print('ndcg_3_list', np.average(ndcg_3_list))\n",
    "print('ndcg_10_list', np.average(ndcg_10_list))\n"
   ]
  },
  {
   "cell_type": "code",
   "execution_count": 5,
   "metadata": {},
   "outputs": [
    {
     "data": {
      "text/plain": [
       "{'recip_rank': 0.25,\n",
       " 'ndcg': 0.43067655807339306,\n",
       " 'ndcg_cut_5': 0.43067655807339306,\n",
       " 'ndcg_cut_10': 0.43067655807339306,\n",
       " 'ndcg_cut_15': 0.43067655807339306,\n",
       " 'ndcg_cut_20': 0.43067655807339306,\n",
       " 'ndcg_cut_30': 0.43067655807339306,\n",
       " 'ndcg_cut_100': 0.43067655807339306,\n",
       " 'ndcg_cut_200': 0.43067655807339306,\n",
       " 'ndcg_cut_500': 0.43067655807339306,\n",
       " 'ndcg_cut_1000': 0.43067655807339306}"
      ]
     },
     "execution_count": 5,
     "metadata": {},
     "output_type": "execute_result"
    }
   ],
   "source": [
    "eval_res['175_0']"
   ]
  },
  {
   "cell_type": "code",
   "execution_count": 4,
   "metadata": {},
   "outputs": [
    {
     "data": {
      "text/plain": [
       "dict_keys(['qrels', 'run', 'ranker_test_all_label_ids', 'guids', 'preds'])"
      ]
     },
     "execution_count": 4,
     "metadata": {},
     "output_type": "execute_result"
    }
   ],
   "source": [
    "res.keys()"
   ]
  },
  {
   "cell_type": "code",
   "execution_count": 17,
   "metadata": {},
   "outputs": [
    {
     "data": {
      "text/plain": [
       "0.5963077224145193"
      ]
     },
     "execution_count": 17,
     "metadata": {},
     "output_type": "execute_result"
    }
   ],
   "source": [
    "np.average(res['mrr_list'])"
   ]
  },
  {
   "cell_type": "code",
   "execution_count": 13,
   "metadata": {},
   "outputs": [
    {
     "data": {
      "text/plain": [
       "3807950"
      ]
     },
     "execution_count": 13,
     "metadata": {},
     "output_type": "execute_result"
    }
   ],
   "source": [
    "len(res['preds'])"
   ]
  },
  {
   "cell_type": "code",
   "execution_count": 15,
   "metadata": {},
   "outputs": [
    {
     "data": {
      "text/plain": [
       "76159"
      ]
     },
     "execution_count": 15,
     "metadata": {},
     "output_type": "execute_result"
    }
   ],
   "source": [
    "len(res['mrr_list'])"
   ]
  },
  {
   "cell_type": "code",
   "execution_count": null,
   "metadata": {},
   "outputs": [],
   "source": [
    "res['qrels']['175_0']"
   ]
  },
  {
   "cell_type": "code",
   "execution_count": null,
   "metadata": {},
   "outputs": [],
   "source": [
    "res['run']['175_0']"
   ]
  },
  {
   "cell_type": "code",
   "execution_count": 26,
   "metadata": {},
   "outputs": [
    {
     "name": "stderr",
     "output_type": "stream",
     "text": [
      "15319390it [03:44, 68145.07it/s]\n",
      "1890950it [00:27, 67871.06it/s]"
     ]
    },
    {
     "name": "stdout",
     "output_type": "stream",
     "text": [
      "1870990\n"
     ]
    },
    {
     "name": "stderr",
     "output_type": "stream",
     "text": [
      "\n"
     ]
    }
   ],
   "source": [
    "train_dict = {}\n",
    "train_guid_dict = {}\n",
    "with open(train_file) as fin:\n",
    "    for line in tqdm(fin):\n",
    "        dp = json.loads(line)\n",
    "        train_dict[(dp['query'], dp['title'], dp['label'])] = 1\n",
    "        # train_guid_dict[dp['guid']] = 1\n",
    "        \n",
    "counter = 0\n",
    "with open(test_file) as fin:\n",
    "    for line in tqdm(fin):\n",
    "        dp = json.loads(line)\n",
    "        if (dp['query'], dp['title'], dp['label']) in train_dict:\n",
    "        # if dp['guid'] in train_guid_dict:\n",
    "            counter += 1\n",
    "print(counter)"
   ]
  },
  {
   "cell_type": "code",
   "execution_count": null,
   "metadata": {},
   "outputs": [],
   "source": []
  }
 ],
 "metadata": {
  "kernelspec": {
   "display_name": "Python 3",
   "language": "python",
   "name": "python3"
  },
  "language_info": {
   "codemirror_mode": {
    "name": "ipython",
    "version": 3
   },
   "file_extension": ".py",
   "mimetype": "text/x-python",
   "name": "python",
   "nbconvert_exporter": "python",
   "pygments_lexer": "ipython3",
   "version": "3.7.3"
  }
 },
 "nbformat": 4,
 "nbformat_minor": 2
}
